{
 "cells": [
  {
   "cell_type": "code",
   "execution_count": 1,
   "id": "4d4ab8d3",
   "metadata": {},
   "outputs": [
    {
     "name": "stdout",
     "output_type": "stream",
     "text": [
      "Requirement already satisfied: ipython in c:\\programdata\\anaconda3\\lib\\site-packages (7.31.1)\n",
      "Requirement already satisfied: backcall in c:\\programdata\\anaconda3\\lib\\site-packages (from ipython) (0.2.0)\n",
      "Requirement already satisfied: pygments in c:\\programdata\\anaconda3\\lib\\site-packages (from ipython) (2.11.2)\n",
      "Requirement already satisfied: colorama in c:\\programdata\\anaconda3\\lib\\site-packages (from ipython) (0.4.5)\n",
      "Requirement already satisfied: jedi>=0.16 in c:\\programdata\\anaconda3\\lib\\site-packages (from ipython) (0.18.1)\n",
      "Requirement already satisfied: matplotlib-inline in c:\\programdata\\anaconda3\\lib\\site-packages (from ipython) (0.1.6)\n",
      "Requirement already satisfied: setuptools>=18.5 in c:\\programdata\\anaconda3\\lib\\site-packages (from ipython) (63.4.1)\n",
      "Requirement already satisfied: prompt-toolkit!=3.0.0,!=3.0.1,<3.1.0,>=2.0.0 in c:\\programdata\\anaconda3\\lib\\site-packages (from ipython) (3.0.20)\n",
      "Requirement already satisfied: decorator in c:\\programdata\\anaconda3\\lib\\site-packages (from ipython) (5.1.1)\n",
      "Requirement already satisfied: pickleshare in c:\\programdata\\anaconda3\\lib\\site-packages (from ipython) (0.7.5)\n",
      "Requirement already satisfied: traitlets>=4.2 in c:\\programdata\\anaconda3\\lib\\site-packages (from ipython) (5.1.1)\n",
      "Requirement already satisfied: parso<0.9.0,>=0.8.0 in c:\\programdata\\anaconda3\\lib\\site-packages (from jedi>=0.16->ipython) (0.8.3)\n",
      "Requirement already satisfied: wcwidth in c:\\programdata\\anaconda3\\lib\\site-packages (from prompt-toolkit!=3.0.0,!=3.0.1,<3.1.0,>=2.0.0->ipython) (0.2.5)\n"
     ]
    }
   ],
   "source": [
    "!pip install ipython"
   ]
  },
  {
   "cell_type": "code",
   "execution_count": 2,
   "id": "15d2514a",
   "metadata": {},
   "outputs": [
    {
     "name": "stdout",
     "output_type": "stream",
     "text": [
      "Requirement already satisfied: sympy in c:\\programdata\\anaconda3\\lib\\site-packages (1.10.1)\n",
      "Requirement already satisfied: mpmath>=0.19 in c:\\programdata\\anaconda3\\lib\\site-packages (from sympy) (1.2.1)\n"
     ]
    }
   ],
   "source": [
    "!pip install sympy"
   ]
  },
  {
   "cell_type": "code",
   "execution_count": 10,
   "id": "83be5e5f",
   "metadata": {},
   "outputs": [],
   "source": [
    "from sympy import symbols, latex, integrate, exp, sin, cos, tan, log\n",
    "from IPython.display import display, Math\n",
    "import matplotlib.pyplot as plt\n",
    "import plotly.graph_objects as go\n",
    "import numpy as np\n",
    "from ipywidgets import interact, FloatSlider"
   ]
  },
  {
   "cell_type": "code",
   "execution_count": 17,
   "id": "c68858c1",
   "metadata": {},
   "outputs": [],
   "source": [
    "def menu_regla_simpson():\n",
    "    # Define las variables\n",
    "    x, a, b = symbols('x a b')\n",
    "\n",
    "    # Solicita al usuario que ingrese el tipo de función\n",
    "    print(\"Seleccione el tipo de función:\")\n",
    "    print(\"1. Polinómica\")\n",
    "    print(\"2. Exponencial\")\n",
    "    print(\"3. Trigonométrica\")\n",
    "    print(\"4. Logarítmica\")\n",
    "    opcion = int(input(\"Ingrese el número de la opción: \"))\n",
    "\n",
    "    if opcion == 1:\n",
    "        # Solicita al usuario que ingrese los coeficientes de la función polinómica\n",
    "        coeficientes = list(map(float, input(\"Ingrese los coeficientes de la función polinómica, separados por espacios (a0 + a1x + a2x^2 + ... + anx^n): \").split()))\n",
    "        funcion = lambda x: sum(coef * x**i for i, coef in enumerate(coeficientes) if coef != 0)\n",
    "        funcion_sympy = sum(coef * x**i for i, coef in enumerate(coeficientes) if coef != 0)\n",
    "        funcion_np = np.vectorize(funcion)\n",
    "    elif opcion == 2:\n",
    "        coef = float(input(\"Ingrese el coeficiente de la función exponencial (e^(coef*x)): \"))\n",
    "        funcion = lambda x: exp(coef * x)\n",
    "        funcion_sympy = exp(coef * x)\n",
    "        funcion_np = np.vectorize(lambda x: np.exp(coef * x))\n",
    "    elif opcion == 3:\n",
    "        print(\"Seleccione la función trigonométrica:\")\n",
    "        print(\"1. Seno\")\n",
    "        print(\"2. Coseno\")\n",
    "        print(\"3. Tangente\")\n",
    "        opcion_trig = int(input(\"Ingrese el número de la opción: \"))\n",
    "        if opcion_trig == 1:\n",
    "            funcion = lambda x: sin(x)\n",
    "            funcion_sympy = sin(x)\n",
    "            funcion_np = np.vectorize(np.sin)\n",
    "        elif opcion_trig == 2:\n",
    "            funcion = lambda x: cos(x)\n",
    "            funcion_sympy = cos(x)\n",
    "            funcion_np = np.vectorize(np.cos)\n",
    "        elif opcion_trig == 3:\n",
    "            funcion = lambda x: tan(x)\n",
    "            funcion_sympy = tan(x)\n",
    "            funcion_np = np.vectorize(np.tan)\n",
    "    elif opcion == 4:\n",
    "        funcion = lambda x: log(x)\n",
    "        funcion_sympy = log(x)\n",
    "        funcion_np = np.vectorize(np.log)\n",
    "\n",
    "    # Construye y muestra la representación de la cadena de la función\n",
    "    display(Math(latex(funcion_sympy)))\n",
    "\n",
    "    def simpson(f, a, b, n):\n",
    "        if n % 2 != 0:\n",
    "            print(\"El número de particiones debe ser par. Se incrementará en 1.\")\n",
    "            n += 1\n",
    "        h = (b - a) / n\n",
    "        sum = f(a) + f(b)\n",
    "        for i in range(1, n, 2):\n",
    "            sum += 4 * f(a + i * h)\n",
    "        for i in range(2, n - 1, 2):\n",
    "            sum += 2 * f(a + i * h)\n",
    "        return sum * h / 3\n",
    "\n",
    "    a_val = float(input(\"Ingrese el límite inferior: \"))\n",
    "    b_val = float(input(\"Ingrese el límite superior: \"))\n",
    "    while b_val <= a_val:\n",
    "        print(\"El límite superior debe ser mayor al límite inferior. Por favor, ingrese b nuevamente.\")\n",
    "        b_val = float(input(\"Ingrese el límite superior: \"))\n",
    "    n = int(input(\"Ingrese el número de particiones (debe ser par): \"))\n",
    "    result = simpson(funcion, a_val, b_val, n)\n",
    "    print(f\"El resultado es: {result}\")\n",
    "\n",
    "    # Calcula la integral\n",
    "    integral = integrate(funcion_sympy, (x, str(a_val), str(b_val)))\n",
    "\n",
    "    # Genera y muestra el código LaTeX\n",
    "    integral_simpson = \"\\\\ \\\\text{{Mediante simpson:}} \\\\int_{{{} }}^{{{} }} {} \\\\, dx \\\\thickapprox {} \".format(a_val, b_val, latex(funcion_sympy), result)\n",
    "    display(Math(integral_simpson))\n",
    "\n",
    "    integral_latex = \"\\\\ \\\\text{{La integral definida:}}\\\\int_{{{} }}^{{{} }} {} \\\\, dx = {}\".format(a_val, b_val, latex(funcion_sympy), latex(integral))\n",
    "    display(Math(integral_latex))\n",
    "    \n",
    "    error = integral - result\n",
    "\n",
    "    # Genera y muestra el código LaTeX para el error\n",
    "    error_latex = \"\\\\ \\\\text{{El error es:}} {}\".format(latex(error))\n",
    "    display(Math(error_latex))\n",
    "    \n",
    "    # Crea un plot de la función\n",
    "    x_valsfunction = np.linspace(a_val - 1, b_val + 1, 10000)\n",
    "    x_valsarea = np.linspace(a_val, b_val, 10000)\n",
    "    y_valsfunction = funcion_np(x_valsfunction)\n",
    "    y_valsarea = funcion_np(x_valsarea)\n",
    "\n",
    "    # Crea el plot de la función\n",
    "    plt.figure(figsize=(4, 3))\n",
    "    plt.plot(x_valsfunction, y_valsfunction, label='f(x)', color='blue')\n",
    "    plt.fill_between(x_valsarea, y_valsarea, color='skyblue', alpha=0.4)\n",
    "\n",
    "    # Agrega líneas de eje en x=0 y y=0\n",
    "    plt.axhline(0, color='black',linewidth=0.5)\n",
    "    plt.axvline(0, color='black',linewidth=0.5)\n",
    "    plt.grid(color = 'gray', linestyle = '--', linewidth = 0.5)\n",
    "\n",
    "    # Configura los límites del plot\n",
    "    plt.xlim([a_val-1, b_val+1])\n",
    "    plt.ylim([min(y_valsfunction), max(y_valsfunction)])\n",
    "\n",
    "    # Configura las etiquetas y el título\n",
    "    plt.xlabel('x', fontsize=14)\n",
    "    plt.ylabel('f(x)', fontsize=14)\n",
    "    plt.title('Área bajo la curva', fontsize=14)\n",
    "\n",
    "    # Muestra la leyenda\n",
    "    plt.legend()\n",
    "\n",
    "    # Muestra el plot\n",
    "    plt.show()"
   ]
  },
  {
   "cell_type": "code",
   "execution_count": 38,
   "id": "c8876a7b",
   "metadata": {},
   "outputs": [
    {
     "name": "stdout",
     "output_type": "stream",
     "text": [
      "Seleccione el tipo de función:\n",
      "1. Polinómica\n",
      "2. Exponencial\n",
      "3. Trigonométrica\n",
      "4. Logarítmica\n",
      "Ingrese el número de la opción: 3\n",
      "Seleccione la función trigonométrica:\n",
      "1. Seno\n",
      "2. Coseno\n",
      "3. Tangente\n",
      "Ingrese el número de la opción: 3\n"
     ]
    },
    {
     "data": {
      "text/latex": [
       "$\\displaystyle \\tan{\\left(x \\right)}$"
      ],
      "text/plain": [
       "<IPython.core.display.Math object>"
      ]
     },
     "metadata": {},
     "output_type": "display_data"
    },
    {
     "name": "stdout",
     "output_type": "stream",
     "text": [
      "Ingrese el límite inferior: -0.5\n",
      "Ingrese el límite superior: 0.5\n",
      "Ingrese el número de particiones (debe ser par): 1000\n",
      "El resultado es: 2.73114864057789E-17\n"
     ]
    },
    {
     "data": {
      "text/latex": [
       "$\\displaystyle \\ \\text{Mediante simpson:} \\int_{-0.5 }^{0.5 } \\tan{\\left(x \\right)} \\, dx \\thickapprox 2.73114864057789E-17 $"
      ],
      "text/plain": [
       "<IPython.core.display.Math object>"
      ]
     },
     "metadata": {},
     "output_type": "display_data"
    },
    {
     "data": {
      "text/latex": [
       "$\\displaystyle \\ \\text{La integral definida:}\\int_{-0.5 }^{0.5 } \\tan{\\left(x \\right)} \\, dx = 0$"
      ],
      "text/plain": [
       "<IPython.core.display.Math object>"
      ]
     },
     "metadata": {},
     "output_type": "display_data"
    },
    {
     "data": {
      "text/latex": [
       "$\\displaystyle \\ \\text{El error es:} -2.73114864057789 \\cdot 10^{-17}$"
      ],
      "text/plain": [
       "<IPython.core.display.Math object>"
      ]
     },
     "metadata": {},
     "output_type": "display_data"
    },
    {
     "data": {
      "image/png": "[encoded data removed]",
      "text/plain": [
       "<Figure size 400x300 with 1 Axes>"
      ]
     },
     "metadata": {},
     "output_type": "display_data"
    }
   ],
   "source": [
    "menu_regla_simpson()"
   ]
  },
  {
   "cell_type": "code",
   "execution_count": null,
   "id": "5df4259e",
   "metadata": {},
   "outputs": [],
   "source": []
  }
 ],
 "metadata": {
  "kernelspec": {
   "display_name": "Python 3 (ipykernel)",
   "language": "python",
   "name": "python3"
  },
  "language_info": {
   "codemirror_mode": {
    "name": "ipython",
    "version": 3
   },
   "file_extension": ".py",
   "mimetype": "text/x-python",
   "name": "python",
   "nbconvert_exporter": "python",
   "pygments_lexer": "ipython3",
   "version": "3.9.13"
  }
 },
 "nbformat": 4,
 "nbformat_minor": 5
}
